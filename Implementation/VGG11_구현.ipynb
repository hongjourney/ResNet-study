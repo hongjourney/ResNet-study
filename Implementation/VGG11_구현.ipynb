{
 "cells": [
  {
   "cell_type": "markdown",
   "metadata": {
    "id": "ScDgQXnt5mfK"
   },
   "source": [
    "# VGG-11 implementation and fine-tuning\n",
    "- boostcamp-AI 과제 정리입니다.\n"
   ]
  },
  {
   "cell_type": "code",
   "execution_count": 1,
   "metadata": {
    "colab": {
     "base_uri": "https://localhost:8080/"
    },
    "executionInfo": {
     "elapsed": 4758,
     "status": "ok",
     "timestamp": 1629471653287,
     "user": {
      "displayName": "‍김종하[ 학부재학 / 컴퓨터학과 ]",
      "photoUrl": "",
      "userId": "09112571090351725461"
     },
     "user_tz": -540
    },
    "id": "XR1bH4WF6qBP",
    "outputId": "0bf48770-9c1b-4c12-ab81-7fd4d16ce97b"
   },
   "outputs": [
    {
     "name": "stdout",
     "output_type": "stream",
     "text": [
      "Requirement already satisfied: quickdraw in /opt/conda/lib/python3.8/site-packages (0.2.0)\n",
      "Requirement already satisfied: requests in /opt/conda/lib/python3.8/site-packages (from quickdraw) (2.24.0)\n",
      "Requirement already satisfied: pillow in /opt/conda/lib/python3.8/site-packages (from quickdraw) (8.1.0)\n",
      "Requirement already satisfied: urllib3!=1.25.0,!=1.25.1,<1.26,>=1.21.1 in /opt/conda/lib/python3.8/site-packages (from requests->quickdraw) (1.25.11)\n",
      "Requirement already satisfied: chardet<4,>=3.0.2 in /opt/conda/lib/python3.8/site-packages (from requests->quickdraw) (3.0.4)\n",
      "Requirement already satisfied: idna<3,>=2.5 in /opt/conda/lib/python3.8/site-packages (from requests->quickdraw) (2.10)\n",
      "Requirement already satisfied: certifi>=2017.4.17 in /opt/conda/lib/python3.8/site-packages (from requests->quickdraw) (2020.12.5)\n"
     ]
    }
   ],
   "source": [
    "# install quickdraw python API\n",
    "!pip3 install quickdraw"
   ]
  },
  {
   "cell_type": "code",
   "execution_count": 2,
   "metadata": {},
   "outputs": [],
   "source": [
    "# !pip install torch==1.9.0\n",
    "# !pip install torchvision==0.10.0\n",
    "# print(torch.__version__)"
   ]
  },
  {
   "cell_type": "code",
   "execution_count": 3,
   "metadata": {
    "id": "04jAy3qh7Lpj"
   },
   "outputs": [],
   "source": [
    "# import packages\n",
    "from quickdraw import QuickDrawData, QuickDrawDataGroup\n",
    "import torch\n",
    "from torch.utils.data import Dataset, DataLoader\n",
    "from torchvision import transforms, utils\n",
    "import itertools\n",
    "import matplotlib.pyplot as plt\n",
    "import os\n",
    "import numpy as np\n",
    "import torch.nn as nn\n",
    "import pandas as pd"
   ]
  },
  {
   "cell_type": "code",
   "execution_count": 4,
   "metadata": {
    "id": "MwigL3eK8ZS6"
   },
   "outputs": [
    {
     "data": {
      "text/plain": [
       "<torch._C.Generator at 0x7f274420df90>"
      ]
     },
     "execution_count": 4,
     "metadata": {},
     "output_type": "execute_result"
    }
   ],
   "source": [
    "# fix random seeds\n",
    "import random\n",
    "random.seed(100)\n",
    "torch.manual_seed(0)\n",
    "# torch.manual_seed(seed) # cpu 연산 무작위 고정 \n",
    "# torch.cuda.manual_seed(seed) # gpu 연산 무작위 고정 \n",
    "# torch.cuda.manual_seed_all(seed) # 멀티 gpu 연산 무작위 고정 \n",
    "# np.random.seed(~~) # numpy 관련 연산 무작위 고정 "
   ]
  },
  {
   "cell_type": "code",
   "execution_count": 5,
   "metadata": {
    "id": "RVpsG6D7IXFq"
   },
   "outputs": [],
   "source": [
    "num_img_per_class = 3000 \n",
    "qd = QuickDrawData(max_drawings=num_img_per_class)"
   ]
  },
  {
   "cell_type": "code",
   "execution_count": 6,
   "metadata": {
    "id": "GRk-2HBhBb99"
   },
   "outputs": [],
   "source": [
    "class_list = ['apple', 'wine bottle', 'spoon', 'rainbow', 'panda', 'hospital', 'scissors', 'toothpaste', 'baseball', 'hourglass']\n",
    "class_dict = {'apple' : 0, 'wine bottle' : 1, 'spoon' : 2, 'rainbow' : 3, 'panda': 4, 'hospital' : 5, 'scissors' : 6, 'toothpaste' : 7, 'baseball' : 8, 'hourglass' : 9}"
   ]
  },
  {
   "cell_type": "code",
   "execution_count": 7,
   "metadata": {
    "colab": {
     "base_uri": "https://localhost:8080/"
    },
    "executionInfo": {
     "elapsed": 26946,
     "status": "ok",
     "timestamp": 1629471684549,
     "user": {
      "displayName": "‍김종하[ 학부재학 / 컴퓨터학과 ]",
      "photoUrl": "",
      "userId": "09112571090351725461"
     },
     "user_tz": -540
    },
    "id": "70K8gdG69UI0",
    "outputId": "f9e5c017-7059-4c71-a25f-5da3f12a1052",
    "tags": []
   },
   "outputs": [
    {
     "name": "stdout",
     "output_type": "stream",
     "text": [
      "loading apple drawings\n",
      "load complete\n",
      "loading wine bottle drawings\n",
      "load complete\n",
      "loading spoon drawings\n",
      "load complete\n",
      "loading rainbow drawings\n",
      "load complete\n",
      "loading panda drawings\n",
      "load complete\n",
      "loading hospital drawings\n",
      "load complete\n",
      "loading scissors drawings\n",
      "load complete\n",
      "loading toothpaste drawings\n",
      "load complete\n",
      "loading baseball drawings\n",
      "load complete\n",
      "loading hourglass drawings\n",
      "load complete\n"
     ]
    }
   ],
   "source": [
    "qd.load_drawings(class_list)"
   ]
  },
  {
   "cell_type": "code",
   "execution_count": 8,
   "metadata": {
    "colab": {
     "base_uri": "https://localhost:8080/"
    },
    "executionInfo": {
     "elapsed": 10464,
     "status": "ok",
     "timestamp": 1629471695001,
     "user": {
      "displayName": "‍김종하[ 학부재학 / 컴퓨터학과 ]",
      "photoUrl": "",
      "userId": "09112571090351725461"
     },
     "user_tz": -540
    },
    "id": "0gqxlZUcCDXx",
    "outputId": "ac9b9616-a46d-4a96-841b-55ef24adf74f",
    "tags": []
   },
   "outputs": [
    {
     "name": "stdout",
     "output_type": "stream",
     "text": [
      "loading apple drawings\n",
      "load complete\n",
      "loading wine bottle drawings\n",
      "load complete\n",
      "loading spoon drawings\n",
      "load complete\n",
      "loading rainbow drawings\n",
      "load complete\n",
      "loading panda drawings\n",
      "load complete\n",
      "loading hospital drawings\n",
      "load complete\n",
      "loading scissors drawings\n",
      "load complete\n",
      "loading toothpaste drawings\n",
      "load complete\n",
      "loading baseball drawings\n",
      "load complete\n",
      "loading hourglass drawings\n",
      "load complete\n"
     ]
    }
   ],
   "source": [
    "# get images, and append to train(90%)/validation(10%) data and label list\n",
    "train_data = list()\n",
    "val_data = list()\n",
    "train_label = list()\n",
    "val_label = list()\n",
    "for class_name in class_list:\n",
    "    qdgroup = QuickDrawDataGroup(class_name, max_drawings=num_img_per_class)\n",
    "    for i, img in enumerate(qdgroup.drawings):\n",
    "        if i < int(0.9 * num_img_per_class):\n",
    "            train_data.append(np.asarray(img.get_image()))\n",
    "            train_label.append(class_dict[class_name])\n",
    "        else:\n",
    "            val_data.append(np.asarray(img.get_image()))\n",
    "            val_label.append(class_dict[class_name])"
   ]
  },
  {
   "cell_type": "code",
   "execution_count": 10,
   "metadata": {},
   "outputs": [
    {
     "name": "stdout",
     "output_type": "stream",
     "text": [
      "27000 3000\n"
     ]
    }
   ],
   "source": [
    "print(len(train_data),len(val_data))"
   ]
  },
  {
   "cell_type": "code",
   "execution_count": 9,
   "metadata": {},
   "outputs": [
    {
     "data": {
      "image/png": "[encoded data removed]",
      "text/plain": [
       "<Figure size 1296x432 with 10 Axes>"
      ]
     },
     "metadata": {
      "needs_background": "light"
     },
     "output_type": "display_data"
    }
   ],
   "source": [
    "# plt.imshow(train_data[0])\n",
    "fig, axes = plt.subplots(2,5, sharex = True, sharey = True, figsize = (18,6))\n",
    "for i, ax in enumerate(axes.flatten()):\n",
    "    ax.imshow(train_data[i*2700+1])\n",
    "    ax.set_title(f'{class_list[train_label[i*2700+1]]}')\n",
    "    \n",
    "plt.show()\n",
    "# 회전하는 transform이 효과 좋을 수도 있을듯. (패딩 생김 주의)"
   ]
  },
  {
   "cell_type": "markdown",
   "metadata": {},
   "source": [
    "## affine transfromation 적용하면?"
   ]
  },
  {
   "cell_type": "code",
   "execution_count": 10,
   "metadata": {},
   "outputs": [],
   "source": [
    "#!pip install opencv-python\n",
    "import cv2"
   ]
  },
  {
   "cell_type": "code",
   "execution_count": 11,
   "metadata": {},
   "outputs": [],
   "source": [
    "rows, cols, ch = train_data[1].shape\n",
    "pts1 = np.float32([[50,50],[200,50],[50,200]])\n",
    "pts2 = np.float32([[10,100],[200,50],[100,250]])\n",
    "M = cv2.getAffineTransform(pts1,pts2)\n",
    "shear_img = cv2.warpAffine(train_data[1], M, (cols, rows))"
   ]
  },
  {
   "cell_type": "code",
   "execution_count": 13,
   "metadata": {},
   "outputs": [
    {
     "data": {
      "image/png": "[encoded data removed]",
      "text/plain": [
       "<Figure size 1080x360 with 2 Axes>"
      ]
     },
     "metadata": {
      "needs_background": "light"
     },
     "output_type": "display_data"
    }
   ],
   "source": [
    "fig, axes = plt.subplots(1,2, sharex=True, sharey=True, figsize=(15,5))\n",
    "axes[0].imshow(train_data[1])\n",
    "axes[0].set_title('before affine transformtion')\n",
    "\n",
    "axes[1].imshow(shear_img)\n",
    "axes[1].set_title('after affine transformation')\n",
    "\n",
    "plt.show()\n",
    "# 검정색 영역이 학습에 악영향? 패딩과 유사해서 상관없음?\n",
    "# Conv관점에선 local한 특징을 보니까 패턴으로 학습되지 않으려나..\n",
    "# 단지 규칙적인 방향으로 와핑하는건 주의해야할듯"
   ]
  },
  {
   "cell_type": "code",
   "execution_count": 15,
   "metadata": {
    "id": "GOuZir1wI_Jd"
   },
   "outputs": [],
   "source": [
    "# transformation, image to (224, 224) tensor\n",
    "transform = transforms.Compose([\n",
    "    #transforms.ToPILImage(),\n",
    "    transforms.ToTensor(),\n",
    "    transforms.Resize((224,224)),\n",
    "    transforms.Normalize(mean=[0.485, 0.456, 0.406], # 이미지넷으로 학습된 모델이라 이미지넷의 RGB mean, std\n",
    "                          std=[0.229, 0.224, 0.225])\n",
    "])"
   ]
  },
  {
   "cell_type": "markdown",
   "metadata": {},
   "source": [
    "주어진 데이터의 RGB mean과 std값을 구해봄."
   ]
  },
  {
   "cell_type": "code",
   "execution_count": 17,
   "metadata": {
    "tags": []
   },
   "outputs": [
    {
     "data": {
      "application/vnd.jupyter.widget-view+json": {
       "model_id": "99bc51dcced548a68525bb208732fbda",
       "version_major": 2,
       "version_minor": 0
      },
      "text/plain": [
       "HBox(children=(HTML(value=''), FloatProgress(value=0.0, max=27000.0), HTML(value='')))"
      ]
     },
     "metadata": {},
     "output_type": "display_data"
    },
    {
     "name": "stdout",
     "output_type": "stream",
     "text": [
      "\n"
     ]
    }
   ],
   "source": [
    "img_info = {'means' : [], 'stds': []}\n",
    "def get_img_stats(img, img_info):\n",
    "    \"\"\"이미지의 mean, std를 img_info에 저장\"\"\"\n",
    "    h, w, _ = img.shape\n",
    "    img_info['means'].append(img.mean(axis=(0,1)))\n",
    "    img_info['stds'].append(img.std(axis=(0,1)))\n",
    "\n",
    "from tqdm.notebook import tqdm\n",
    "for i in tqdm(range(len(train_data))):\n",
    "    get_img_stats(train_data[i], img_info)"
   ]
  },
  {
   "cell_type": "code",
   "execution_count": 18,
   "metadata": {},
   "outputs": [
    {
     "name": "stdout",
     "output_type": "stream",
     "text": [
      "RGB Mean: [0.97333386 0.97333386 0.97333386]\n",
      "RGB Standard Deviation: [0.15715932 0.15715932 0.15715932]\n"
     ]
    }
   ],
   "source": [
    "print(f'RGB Mean: {np.mean(img_info[\"means\"], axis=0) / 255.}')\n",
    "print(f'RGB Standard Deviation: {np.mean(img_info[\"stds\"], axis=0) / 255.}')"
   ]
  },
  {
   "cell_type": "code",
   "execution_count": 19,
   "metadata": {},
   "outputs": [],
   "source": [
    "transform_QuickDrawData = transforms.Compose([\n",
    "    #transforms.ToPILImage(),\n",
    "    transforms.ToTensor(),\n",
    "    transforms.Resize((224,224)),\n",
    "    transforms.Normalize(mean=np.mean(img_info[\"means\"], axis=0) / 255., # 이미지넷으로 학습된 모델이라 이미지넷의 RGB mean, std\n",
    "                          std=np.mean(img_info[\"stds\"], axis=0) / 255.)\n",
    "])"
   ]
  },
  {
   "cell_type": "code",
   "execution_count": 20,
   "metadata": {
    "id": "veN_TBjQ-a-y"
   },
   "outputs": [],
   "source": [
    "# custom dataset for Quickdraw\n",
    "class QuickDrawDataset(Dataset):\n",
    "\n",
    "    def __init__(self, data, labels, transform=None):\n",
    "        self.data = data\n",
    "        self.labels = labels\n",
    "        self.transform = transform\n",
    "\n",
    "    def __len__(self):\n",
    "        return len(self.data)\n",
    "\n",
    "    def __getitem__(self, idx):\n",
    "        img = self.data[idx]\n",
    "        label = self.labels[idx]\n",
    "        if self.transform:\n",
    "            img = self.transform(img)\n",
    "        return img, label"
   ]
  },
  {
   "cell_type": "code",
   "execution_count": 22,
   "metadata": {
    "id": "T6ooe0ZYAIgP"
   },
   "outputs": [],
   "source": [
    "# quickdraw train/validatoin dataset and dataloader\n",
    "qd_train_dataset = QuickDrawDataset(train_data, train_label, transform)\n",
    "qd_val_dataset = QuickDrawDataset(val_data, val_label, transform)\n",
    "\n",
    "qd_train_dataloader = DataLoader(qd_train_dataset, batch_size=64, shuffle=True)\n",
    "qd_val_dataloader = DataLoader(qd_val_dataset, batch_size=64, shuffle=True)"
   ]
  },
  {
   "cell_type": "code",
   "execution_count": 23,
   "metadata": {
    "id": "YmhkezJwDq4W"
   },
   "outputs": [],
   "source": [
    "class AverageMeter(object):\n",
    "  \"\"\"Computes and stores the average and current value\"\"\"\n",
    "  def __init__(self):\n",
    "      self.reset()\n",
    "\n",
    "  def reset(self):\n",
    "    self.val = 0\n",
    "    self.avg = 0\n",
    "    self.sum = 0\n",
    "    self.count = 0\n",
    "\n",
    "  def update(self, val, n=1):\n",
    "    self.val = val\n",
    "    self.sum += val * n\n",
    "    self.count += n\n",
    "    self.avg = self.sum / self.count"
   ]
  },
  {
   "cell_type": "markdown",
   "metadata": {
    "id": "MFTw6h-P-JxY"
   },
   "source": [
    "## Custom VGG-11 implementation\n",
    "\n",
    "아래 Table은 여러 종류의 VGG 네트워크에 대한 각각의 구성을 나타낸 것입니다.\n",
    "<br>A에서 E까지 다양한 크기의 VGG 중에서 구현하고자 하는 네트워크는 **A에 해당하는 VGG-11**입니다.\n",
    "\n",
    "----\n",
    "\n",
    "<img src='https://drive.google.com/uc?id=1bFKnmwcbdJLQdCjNPxQdaYnTNCmBt0rK'  width=\"700\">"
   ]
  },
  {
   "cell_type": "markdown",
   "metadata": {},
   "source": [
    "----\n",
    "구현한 VGG-11에 문제가 없다면 네트워크의 **output tensor는 10-dim vector**에 해당해야 합니다. \n",
    "\n",
    "<br>아래의 코드를 실행하여 **output tensor의 shape을 확인**해봅시다.\n",
    "<br> 만약 ```out = model_test(x)```를 실행하였을 때 오류가 발생한다면 layer 구현에 오류가 있는 것이니 다시 한번 네트워크 코드에 문제가 없는지 확인해보세요 :)\n",
    "\n",
    "\n",
    "아래의 문구와 동일하게 출력된다면 output tensor의 shape이 알맞게 return된 것입니다!\n",
    "```python\n",
    "\"Output tensor shape is : torch.Size([1, 10])\"\n",
    "```"
   ]
  },
  {
   "cell_type": "code",
   "execution_count": 55,
   "metadata": {
    "id": "e2nqVINpDTWk"
   },
   "outputs": [],
   "source": [
    "import torch\n",
    "import torch.nn as nn\n",
    "\n",
    "class VGG11(nn.Module):\n",
    "  def __init__(self, num_classes=10):\n",
    "    super(VGG11, self).__init__()\n",
    "\n",
    "    self.relu = nn.ReLU(inplace=True)\n",
    "    \n",
    "    # Convolution Feature Extraction Part\n",
    "    self.conv1 = nn.Conv2d(3, 64, kernel_size=3, padding=1)\n",
    "    self.bn1   = nn.BatchNorm2d(64)\n",
    "    self.pool1 = nn.MaxPool2d(kernel_size=2, stride=2)\n",
    "\n",
    "    # TO DO (1-1) starts here!\n",
    "    # Fill empty parts with proper code\n",
    "    self.conv2 = nn.Conv2d(64, 128, kernel_size=3, padding=1)\n",
    "    self.bn2   = nn.BatchNorm2d(128)\n",
    "    self.pool2 = nn.MaxPool2d(kernel_size=2, stride=2)\n",
    "\n",
    "    self.conv3_1 = nn.Conv2d(128, 256, kernel_size=3, padding=1)\n",
    "    self.bn3_1   = nn.BatchNorm2d(256)\n",
    "    self.conv3_2 = nn.Conv2d(256, 256, kernel_size=3, padding=1)\n",
    "    self.bn3_2   = nn.BatchNorm2d(256)\n",
    "    self.pool3   = nn.MaxPool2d(kernel_size=2, stride=2)\n",
    "\n",
    "    self.conv4_1 = nn.Conv2d(256, 512, kernel_size=3, padding=1)\n",
    "    self.bn4_1   = nn.BatchNorm2d(512)\n",
    "    self.conv4_2 = nn.Conv2d(512, 512, kernel_size=3, padding=1)\n",
    "    self.bn4_2   = nn.BatchNorm2d(512)\n",
    "    self.pool4   = nn.MaxPool2d(kernel_size=2, stride=2)\n",
    "\n",
    "    self.conv5_1 = nn.Conv2d(512, 512, kernel_size=3, padding=1)\n",
    "    self.bn5_1   = nn.BatchNorm2d(512)\n",
    "    self.conv5_2 = nn.Conv2d(512, 512, kernel_size=3, padding=1)\n",
    "    self.bn5_2   = nn.BatchNorm2d(512)\n",
    "    self.pool5   = nn.MaxPool2d(kernel_size=2, stride=2)\n",
    "    # TO DO (1-1) ends here!\n",
    "\n",
    "    # Fully Connected Classifier Part\n",
    "    # TO DO (1-2) starts here!\n",
    "    # Fill empty parts with proper code\n",
    "    self.fc1      = nn.Linear(25088, 4096) #이렇게 숫자로 입력하는거 맞음?\n",
    "    self.dropout1 = nn.Dropout()\n",
    "    self.fc2      = nn.Linear(4096, 4096)\n",
    "    self.dropout2 = nn.Dropout()\n",
    "    \n",
    "    self.fc3      = nn.Linear(4096, 10)\n",
    "    # TO DO (1-2) ends here!\n",
    "\n",
    "  def forward(self, x):\n",
    "    # Convolution Feature Extraction Part\n",
    "    x = self.conv1(x)\n",
    "    x = self.bn1(x)\n",
    "    x = self.relu(x)\n",
    "    x = self.pool1(x)\n",
    "\n",
    "    x = self.conv2(x)\n",
    "    x = self.bn2(x)\n",
    "    x = self.relu(x)\n",
    "    x = self.pool2(x)\n",
    "\n",
    "    x = self.conv3_1(x)\n",
    "    x = self.bn3_1(x)\n",
    "    x = self.relu(x)\n",
    "    x = self.conv3_2(x)\n",
    "    x = self.bn3_2(x)\n",
    "    x = self.relu(x)\n",
    "    x = self.pool3(x)\n",
    "\n",
    "    x = self.conv4_1(x)\n",
    "    x = self.bn4_1(x)\n",
    "    x = self.relu(x)\n",
    "    x = self.conv4_2(x)\n",
    "    x = self.bn4_2(x)\n",
    "    x = self.relu(x)\n",
    "    x = self.pool4(x)\n",
    "\n",
    "    x = self.conv5_1(x)\n",
    "    x = self.bn5_1(x)\n",
    "    x = self.relu(x)\n",
    "    x = self.conv5_2(x)\n",
    "    x = self.bn5_2(x)\n",
    "    x = self.relu(x)\n",
    "    x = self.pool5(x)\n",
    "\n",
    "    # part to help debugging by checking tensor size\n",
    "    # delete or comment out this line after debugging\n",
    "    # Model의 feed forward를 수행하는 과정에서 해당 부분의 tensor shape가 출력되므로, \n",
    "    # 이 정보를 이용해 fully connected layer의 input dimension을 계산 할 수 있음. \n",
    "    # print(f'Tensor shape after convolution layers is {x.shape}')\n",
    "\n",
    "    x = torch.flatten(x, 1)\n",
    "    x = self.fc1(x)\n",
    "    x = self.relu(x)\n",
    "    x = self.dropout1(x)\n",
    "    \n",
    "    x = self.fc2(x)\n",
    "    x = self.relu(x)\n",
    "    x = self.dropout2(x)\n",
    "    \n",
    "    x = self.fc3(x)\n",
    "    return x"
   ]
  },
  {
   "cell_type": "code",
   "execution_count": 25,
   "metadata": {
    "colab": {
     "base_uri": "https://localhost:8080/"
    },
    "executionInfo": {
     "elapsed": 1911,
     "status": "ok",
     "timestamp": 1629471915291,
     "user": {
      "displayName": "‍김종하[ 학부재학 / 컴퓨터학과 ]",
      "photoUrl": "",
      "userId": "09112571090351725461"
     },
     "user_tz": -540
    },
    "id": "fQbEn0zbBBES",
    "outputId": "719267a1-f375-4f1e-b552-465acb3bced8"
   },
   "outputs": [
    {
     "name": "stdout",
     "output_type": "stream",
     "text": [
      "Output tensor shape is : torch.Size([1, 10])\n"
     ]
    },
    {
     "name": "stderr",
     "output_type": "stream",
     "text": [
      "/opt/conda/lib/python3.8/site-packages/torch/nn/functional.py:718: UserWarning: Named tensors and all their associated APIs are an experimental feature and subject to change. Please do not use them for anything important until they are released as stable. (Triggered internally at  /pytorch/c10/core/TensorImpl.h:1156.)\n",
      "  return torch.max_pool2d(input, kernel_size, stride, padding, dilation, ceil_mode)\n"
     ]
    }
   ],
   "source": [
    "# Network\n",
    "model_test = VGG11(num_classes=10)\n",
    "\n",
    "# Random input\n",
    "x = torch.randn((1, 3, 224, 224)) #batchsize, channel, h, w\n",
    "\n",
    "# Forward\n",
    "out = model_test(x)\n",
    "\n",
    "# Check the output shape\n",
    "print(\"Output tensor shape is :\", out.shape)"
   ]
  },
  {
   "cell_type": "code",
   "execution_count": 34,
   "metadata": {
    "colab": {
     "base_uri": "https://localhost:8080/"
    },
    "executionInfo": {
     "elapsed": 1711,
     "status": "ok",
     "timestamp": 1629471921296,
     "user": {
      "displayName": "‍김종하[ 학부재학 / 컴퓨터학과 ]",
      "photoUrl": "",
      "userId": "09112571090351725461"
     },
     "user_tz": -540
    },
    "id": "PHhRYP4ZBI0p",
    "outputId": "189a15cc-1b5f-4726-ad4c-d7cba3a8f4fb"
   },
   "outputs": [],
   "source": [
    "# Build user-defined VGG model\n",
    "model_scratch = VGG11(num_classes=10)"
   ]
  },
  {
   "cell_type": "code",
   "execution_count": 35,
   "metadata": {
    "id": "nu1bm42vDtb_"
   },
   "outputs": [],
   "source": [
    "# Loss function and Optimizer\n",
    "from torch.optim import Adam\n",
    "\n",
    "criterion = nn.CrossEntropyLoss()\n",
    "optimizer = Adam(model_scratch.parameters(), lr=1e-4)"
   ]
  },
  {
   "cell_type": "code",
   "execution_count": 28,
   "metadata": {
    "id": "CKZTQB1kH1Dh"
   },
   "outputs": [],
   "source": [
    "log_dir ='./log'"
   ]
  },
  {
   "cell_type": "code",
   "execution_count": 29,
   "metadata": {},
   "outputs": [],
   "source": [
    "device = torch.device('cuda' if torch.cuda.is_available() else 'cpu')"
   ]
  },
  {
   "cell_type": "code",
   "execution_count": 36,
   "metadata": {
    "colab": {
     "base_uri": "https://localhost:8080/"
    },
    "executionInfo": {
     "elapsed": 981290,
     "status": "ok",
     "timestamp": 1629472907129,
     "user": {
      "displayName": "‍김종하[ 학부재학 / 컴퓨터학과 ]",
      "photoUrl": "",
      "userId": "09112571090351725461"
     },
     "user_tz": -540
    },
    "id": "Fm5DWDr9BPax",
    "outputId": "f26c6e7d-17f1-46ec-aaee-3425f5953b0b",
    "tags": []
   },
   "outputs": [
    {
     "name": "stdout",
     "output_type": "stream",
     "text": [
      "Iter [  0/422] | Train Loss 2.3369 | Train Acc 0.1094 | Valid Loss 2.3025 | Valid Acc 0.1000\n",
      "Iter [ 20/422] | Train Loss 2.2639 | Train Acc 0.0469 | Valid Loss 2.2066 | Valid Acc 0.2407\n",
      "Iter [ 40/422] | Train Loss 1.5609 | Train Acc 0.3594 | Valid Loss 1.5045 | Valid Acc 0.5130\n",
      "Iter [ 60/422] | Train Loss 0.6968 | Train Acc 0.7812 | Valid Loss 1.2165 | Valid Acc 0.6190\n",
      "Iter [ 80/422] | Train Loss 0.8994 | Train Acc 0.7188 | Valid Loss 0.8940 | Valid Acc 0.7243\n",
      "Iter [100/422] | Train Loss 0.7391 | Train Acc 0.7344 | Valid Loss 0.7421 | Valid Acc 0.7707\n",
      "Iter [120/422] | Train Loss 1.0567 | Train Acc 0.6875 | Valid Loss 0.6942 | Valid Acc 0.7877\n",
      "Iter [140/422] | Train Loss 0.6439 | Train Acc 0.7969 | Valid Loss 0.6463 | Valid Acc 0.7963\n",
      "Iter [160/422] | Train Loss 0.5834 | Train Acc 0.7656 | Valid Loss 0.5679 | Valid Acc 0.8250\n",
      "Iter [180/422] | Train Loss 0.3520 | Train Acc 0.9375 | Valid Loss 0.5566 | Valid Acc 0.8383\n",
      "Iter [200/422] | Train Loss 0.3217 | Train Acc 0.9219 | Valid Loss 0.5492 | Valid Acc 0.8423\n",
      "Iter [220/422] | Train Loss 0.5787 | Train Acc 0.8281 | Valid Loss 0.5013 | Valid Acc 0.8487\n",
      "Iter [240/422] | Train Loss 0.3778 | Train Acc 0.8906 | Valid Loss 0.4952 | Valid Acc 0.8530\n",
      "Iter [260/422] | Train Loss 0.3101 | Train Acc 0.9062 | Valid Loss 0.4420 | Valid Acc 0.8687\n",
      "Iter [280/422] | Train Loss 0.3026 | Train Acc 0.8750 | Valid Loss 0.4468 | Valid Acc 0.8633\n",
      "Iter [300/422] | Train Loss 0.2145 | Train Acc 0.9375 | Valid Loss 0.4188 | Valid Acc 0.8743\n",
      "Iter [320/422] | Train Loss 0.4706 | Train Acc 0.8906 | Valid Loss 0.4145 | Valid Acc 0.8793\n",
      "Iter [340/422] | Train Loss 0.2841 | Train Acc 0.9062 | Valid Loss 0.4826 | Valid Acc 0.8560\n",
      "Iter [360/422] | Train Loss 0.2778 | Train Acc 0.9219 | Valid Loss 0.4154 | Valid Acc 0.8743\n",
      "Iter [380/422] | Train Loss 0.2525 | Train Acc 0.9375 | Valid Loss 0.3888 | Valid Acc 0.8817\n",
      "Iter [400/422] | Train Loss 0.5398 | Train Acc 0.8438 | Valid Loss 0.4031 | Valid Acc 0.8827\n",
      "Iter [420/422] | Train Loss 0.2819 | Train Acc 0.9062 | Valid Loss 0.3752 | Valid Acc 0.8897\n",
      "Iter [421/422] | Train Loss 0.3834 | Train Acc 0.8571 | Valid Loss 0.3677 | Valid Acc 0.8913\n"
     ]
    }
   ],
   "source": [
    "# Main\n",
    "os.makedirs(log_dir, exist_ok=True)\n",
    "\n",
    "with open(os.path.join(log_dir, 'scratch_train_log.csv'), 'w') as log: # csv파일에 train log 남김\n",
    "\n",
    "  # set model to train mode\n",
    "  model_scratch.train()\n",
    "  for iter, (img, label) in enumerate(qd_train_dataloader):\n",
    "\n",
    "    # optimizer에 저장된 미분값을 0으로 초기화\n",
    "    optimizer.zero_grad()\n",
    "\n",
    "    img, label = img.to(device), label.to(device) \n",
    "    model_scratch.to(device)\n",
    "    \n",
    "  \n",
    "    # 모델에 이미지 forward\n",
    "    pred_logit = model_scratch(img)\n",
    "\n",
    "    # loss 값 계산\n",
    "    loss = criterion(pred_logit, label) \n",
    "\n",
    "    # Backpropagation\n",
    "    loss.backward()\n",
    "    optimizer.step()\n",
    "\n",
    "    # Accuracy 계산\n",
    "    pred_label = torch.argmax(pred_logit, 1)\n",
    "    acc = (pred_label == label).sum().item() / len(img)\n",
    "\n",
    "    train_loss = loss.item()\n",
    "    train_acc = acc\n",
    "\n",
    "    # Validation \n",
    "    if (iter % 20 == 0) or (iter == len(qd_train_dataloader)-1):\n",
    "\n",
    "      # set model to validation mode\n",
    "      model_scratch.eval()\n",
    "      valid_loss, valid_acc = AverageMeter(), AverageMeter()\n",
    "\n",
    "      for img, label in qd_val_dataloader:\n",
    "     \n",
    "        img, label = img.to(device), label.to(device)\n",
    "\n",
    "        # 모델에 이미지 forward (gradient 계산 X)\n",
    "        with torch.no_grad():\n",
    "          pred_logit = model_scratch(img)\n",
    "\n",
    "        # loss 값 계산\n",
    "        loss = criterion(pred_logit, label) \n",
    "\n",
    "\n",
    "        # Accuracy 계산\n",
    "        pred_label = torch.argmax(pred_logit, 1)\n",
    "        acc = (pred_label == label).sum().item() / len(img)\n",
    "\n",
    "        valid_loss.update(loss.item(), len(img))\n",
    "        valid_acc.update(acc, len(img))\n",
    "\n",
    "      valid_loss = valid_loss.avg\n",
    "      valid_acc = valid_acc.avg\n",
    "\n",
    "      print(\"Iter [%3d/%3d] | Train Loss %.4f | Train Acc %.4f | Valid Loss %.4f | Valid Acc %.4f\" %\n",
    "            (iter, len(qd_train_dataloader), train_loss, train_acc, valid_loss, valid_acc))\n",
    "      \n",
    "      # Train Log Writing\n",
    "      log.write('%d,%.4f,%.4f,%.4f,%.4f\\n'%(iter, train_loss, train_acc, valid_loss, valid_acc))"
   ]
  },
  {
   "cell_type": "code",
   "execution_count": 37,
   "metadata": {
    "tags": []
   },
   "outputs": [
    {
     "name": "stdout",
     "output_type": "stream",
     "text": [
      "----------------------------------------------------------------\n",
      "        Layer (type)               Output Shape         Param #\n",
      "================================================================\n",
      "            Conv2d-1         [-1, 64, 224, 224]           1,792\n",
      "       BatchNorm2d-2         [-1, 64, 224, 224]             128\n",
      "              ReLU-3         [-1, 64, 224, 224]               0\n",
      "         MaxPool2d-4         [-1, 64, 112, 112]               0\n",
      "            Conv2d-5        [-1, 128, 112, 112]          73,856\n",
      "       BatchNorm2d-6        [-1, 128, 112, 112]             256\n",
      "              ReLU-7        [-1, 128, 112, 112]               0\n",
      "         MaxPool2d-8          [-1, 128, 56, 56]               0\n",
      "            Conv2d-9          [-1, 256, 56, 56]         295,168\n",
      "      BatchNorm2d-10          [-1, 256, 56, 56]             512\n",
      "             ReLU-11          [-1, 256, 56, 56]               0\n",
      "           Conv2d-12          [-1, 256, 56, 56]         590,080\n",
      "      BatchNorm2d-13          [-1, 256, 56, 56]             512\n",
      "             ReLU-14          [-1, 256, 56, 56]               0\n",
      "        MaxPool2d-15          [-1, 256, 28, 28]               0\n",
      "           Conv2d-16          [-1, 512, 28, 28]       1,180,160\n",
      "      BatchNorm2d-17          [-1, 512, 28, 28]           1,024\n",
      "             ReLU-18          [-1, 512, 28, 28]               0\n",
      "           Conv2d-19          [-1, 512, 28, 28]       2,359,808\n",
      "      BatchNorm2d-20          [-1, 512, 28, 28]           1,024\n",
      "             ReLU-21          [-1, 512, 28, 28]               0\n",
      "        MaxPool2d-22          [-1, 512, 14, 14]               0\n",
      "           Conv2d-23          [-1, 512, 14, 14]       2,359,808\n",
      "      BatchNorm2d-24          [-1, 512, 14, 14]           1,024\n",
      "             ReLU-25          [-1, 512, 14, 14]               0\n",
      "           Conv2d-26          [-1, 512, 14, 14]       2,359,808\n",
      "      BatchNorm2d-27          [-1, 512, 14, 14]           1,024\n",
      "             ReLU-28          [-1, 512, 14, 14]               0\n",
      "        MaxPool2d-29            [-1, 512, 7, 7]               0\n",
      "           Linear-30                 [-1, 4096]     102,764,544\n",
      "             ReLU-31                 [-1, 4096]               0\n",
      "          Dropout-32                 [-1, 4096]               0\n",
      "           Linear-33                 [-1, 4096]      16,781,312\n",
      "             ReLU-34                 [-1, 4096]               0\n",
      "          Dropout-35                 [-1, 4096]               0\n",
      "           Linear-36                   [-1, 10]          40,970\n",
      "================================================================\n",
      "Total params: 128,812,810\n",
      "Trainable params: 128,812,810\n",
      "Non-trainable params: 0\n",
      "----------------------------------------------------------------\n",
      "Input size (MB): 0.57\n",
      "Forward/backward pass size (MB): 181.83\n",
      "Params size (MB): 491.38\n",
      "Estimated Total Size (MB): 673.79\n",
      "----------------------------------------------------------------\n"
     ]
    }
   ],
   "source": [
    "from torchsummary import summary\n",
    "\n",
    "summary(model_scratch, (3, 224, 224))"
   ]
  },
  {
   "cell_type": "markdown",
   "metadata": {
    "id": "NuC7ESBFDD8R"
   },
   "source": [
    "## Fine-tuning VGG-11 with pretrained feature extractor\n",
    "이번에는 torchvision에서 제공하는 pretrained VGG-11을 이용한 fine-tuning 학습을 진행하게 됩니다. Fine-tuning의 경우도 기본적인 training 방법은 동일하지만, 이번에는 모든 parameter를 처음부터 학습하는 대신 **feature extractor는 기존 학습된 상태에서 고정하고 linear classifier만 새로 학습**한다는 차이가 있습니다. \n",
    "\n",
    "- validation을 수행할 때는 gradient 계산 및 backpropagation이 필요 없음 주의\n",
    "- Linear classifier만을 학습하기 위해, convolution layers들의 weight를 freeze 하기\n",
    "\n",
    "- Hint : Google에 *how to freeze conv layers* 를 검색한 [결과](https://www.google.com/search?q=how+to+freeze+conv+layers&oq=how+to+&aqs=chrome.0.69i59j69i57j0i512l3j69i60l3.809j0j7&sourceid=chrome&ie=UTF-8) 나오는 [stackoverflow 글](https://discuss.pytorch.org/t/how-the-pytorch-freeze-network-in-some-layers-only-the-rest-of-the-training/7088)을 참고하면 쉽게 구현할 수 있습니다. 이와 같이, 필요한 내용을 잘 googling하는 실력은 앞으로의 개발 과정에서도 필수적인 능력이 될 것입니다. 앞으로를 위해 **정확한 키워드로 잘 검색하는 습관**을 들이시면 모든 함수를 외우지 않고도 효율적이고 빠른 코딩이 가능할 것입니다."
   ]
  },
  {
   "cell_type": "code",
   "execution_count": 40,
   "metadata": {
    "colab": {
     "base_uri": "https://localhost:8080/",
     "height": 66,
     "referenced_widgets": [
      "36c7f16063dd4278a35a23f422dfacfb",
      "c1b8f6a02e144380878066f006620f23",
      "09b2356c955d446e8ee7f0d7c0944bf9",
      "73132d41942d40d29f79ad9610a0589a",
      "ebf61dadc9c9487b839fe2a859ed2f36",
      "570859fc4bce46f6ab394094db0a77ce",
      "274606c79c8c4f35a8a18378ea06b2fc",
      "807bf459b5364ab599467085c439e67d",
      "9fb519f7cd6d47c18c9bd781ac210415",
      "947e1ce288ac49c4972cb947522d7cf4",
      "11be7794e0ca4220afaefb24c1bf1571"
     ]
    },
    "executionInfo": {
     "elapsed": 8056,
     "status": "ok",
     "timestamp": 1629472921134,
     "user": {
      "displayName": "‍김종하[ 학부재학 / 컴퓨터학과 ]",
      "photoUrl": "",
      "userId": "09112571090351725461"
     },
     "user_tz": -540
    },
    "id": "UMqSkZF9ERRR",
    "outputId": "e8aeeeaf-0c0d-47f5-8cd7-e7ff3cb37183"
   },
   "outputs": [],
   "source": [
    "from torchvision.models import vgg11\n",
    "\n",
    "pretrained = True \n",
    "model_finetune = vgg11(pretrained)\n",
    "\n",
    "\n",
    "# change VGG-11's output dimension to 10\n",
    "model_finetune.classifier[6] = nn.Linear(4096, 10)\n",
    "\n",
    "# Freeze the feature extracting convolution layers\n",
    "for param in model_finetune.parameters():\n",
    "    param.requires_grad = False\n",
    "\n",
    "for param in model_finetune.classifier.parameters():\n",
    "    param.requires_grad = True\n"
   ]
  },
  {
   "cell_type": "code",
   "execution_count": 41,
   "metadata": {
    "id": "f9WrU6AfVdyi"
   },
   "outputs": [],
   "source": [
    "# Loss function and Optimizer\n",
    "from torch.optim import Adam\n",
    "\n",
    "criterion = nn.CrossEntropyLoss()\n",
    "optimizer_ft = Adam(model_finetune.parameters(), lr=1e-4)"
   ]
  },
  {
   "cell_type": "code",
   "execution_count": 46,
   "metadata": {
    "colab": {
     "base_uri": "https://localhost:8080/"
    },
    "executionInfo": {
     "elapsed": 688540,
     "status": "ok",
     "timestamp": 1629473616925,
     "user": {
      "displayName": "‍김종하[ 학부재학 / 컴퓨터학과 ]",
      "photoUrl": "",
      "userId": "09112571090351725461"
     },
     "user_tz": -540
    },
    "id": "zA8Kwg4MHfjE",
    "outputId": "9ac84729-016c-4509-c226-d5b447fa3dee"
   },
   "outputs": [
    {
     "name": "stdout",
     "output_type": "stream",
     "text": [
      "Iter [  0/422] | Train Loss 2.7021 | Train Acc 0.0781 | Valid Loss 2.2370 | Valid Acc 0.1797\n",
      "Iter [ 20/422] | Train Loss 0.2595 | Train Acc 0.9375 | Valid Loss 0.5076 | Valid Acc 0.8510\n",
      "Iter [ 40/422] | Train Loss 0.4889 | Train Acc 0.9062 | Valid Loss 0.3905 | Valid Acc 0.8843\n",
      "Iter [ 60/422] | Train Loss 0.4284 | Train Acc 0.8281 | Valid Loss 0.3731 | Valid Acc 0.8853\n",
      "Iter [ 80/422] | Train Loss 0.3921 | Train Acc 0.9062 | Valid Loss 0.3198 | Valid Acc 0.9040\n",
      "Iter [100/422] | Train Loss 0.2127 | Train Acc 0.9219 | Valid Loss 0.3165 | Valid Acc 0.9047\n",
      "Iter [120/422] | Train Loss 0.3269 | Train Acc 0.8906 | Valid Loss 0.2899 | Valid Acc 0.9123\n",
      "Iter [140/422] | Train Loss 0.3260 | Train Acc 0.9219 | Valid Loss 0.3066 | Valid Acc 0.9027\n",
      "Iter [160/422] | Train Loss 0.2017 | Train Acc 0.9062 | Valid Loss 0.2864 | Valid Acc 0.9193\n",
      "Iter [180/422] | Train Loss 0.2630 | Train Acc 0.9062 | Valid Loss 0.2897 | Valid Acc 0.9143\n",
      "Iter [200/422] | Train Loss 0.3014 | Train Acc 0.9219 | Valid Loss 0.2566 | Valid Acc 0.9230\n",
      "Iter [220/422] | Train Loss 0.3816 | Train Acc 0.8750 | Valid Loss 0.3071 | Valid Acc 0.9030\n",
      "Iter [240/422] | Train Loss 0.2341 | Train Acc 0.9062 | Valid Loss 0.2679 | Valid Acc 0.9190\n",
      "Iter [260/422] | Train Loss 0.1936 | Train Acc 0.9531 | Valid Loss 0.2498 | Valid Acc 0.9293\n",
      "Iter [280/422] | Train Loss 0.3534 | Train Acc 0.9062 | Valid Loss 0.2794 | Valid Acc 0.9107\n",
      "Iter [300/422] | Train Loss 0.2096 | Train Acc 0.9062 | Valid Loss 0.2690 | Valid Acc 0.9220\n",
      "Iter [320/422] | Train Loss 0.0721 | Train Acc 0.9844 | Valid Loss 0.2456 | Valid Acc 0.9283\n",
      "Iter [340/422] | Train Loss 0.4389 | Train Acc 0.9062 | Valid Loss 0.2474 | Valid Acc 0.9223\n",
      "Iter [360/422] | Train Loss 0.1647 | Train Acc 0.9531 | Valid Loss 0.2522 | Valid Acc 0.9233\n",
      "Iter [380/422] | Train Loss 0.1485 | Train Acc 0.9375 | Valid Loss 0.2675 | Valid Acc 0.9163\n",
      "Iter [400/422] | Train Loss 0.2560 | Train Acc 0.9062 | Valid Loss 0.2559 | Valid Acc 0.9253\n",
      "Iter [420/422] | Train Loss 0.1534 | Train Acc 0.9375 | Valid Loss 0.2358 | Valid Acc 0.9310\n",
      "Iter [421/422] | Train Loss 0.1607 | Train Acc 0.9464 | Valid Loss 0.2340 | Valid Acc 0.9313\n"
     ]
    }
   ],
   "source": [
    "# Main\n",
    "os.makedirs(log_dir, exist_ok=True)\n",
    "\n",
    "with open(os.path.join(log_dir, 'fine_tuned_train_log.csv'), 'w') as log:\n",
    "  # Training\n",
    "\n",
    "  # set model to train mode\n",
    "  model_finetune.train()\n",
    "  for iter, (img, label) in enumerate(qd_train_dataloader):\n",
    "\n",
    "    # optimizer에 저장된 미분값을 0으로 초기화\n",
    "    optimizer_ft.zero_grad()\n",
    "\n",
    "    img, label = img.to(device), label.to(device)\n",
    "    model_finetune.to(device)\n",
    "  \n",
    "    # 모델에 이미지 forward\n",
    "    pred_logit = model_finetune(img)\n",
    "\n",
    "    # loss 값 계산\n",
    "    loss = criterion(pred_logit, label)\n",
    "\n",
    "    # Backpropagation\n",
    "    loss.backward()\n",
    "    optimizer_ft.step()\n",
    "    # TO DO (3-1) ends here!\n",
    "\n",
    "    # Accuracy 계산\n",
    "    pred_label = torch.argmax(pred_logit, 1)\n",
    "    acc = (pred_label == label).sum().item() / len(img)\n",
    "\n",
    "    train_loss = loss.item()\n",
    "    train_acc = acc\n",
    "\n",
    "    # Validation \n",
    "    if (iter % 20 == 0) or (iter == len(qd_train_dataloader)-1):\n",
    "      # TO DO (3-2) starts here!\n",
    "      # Fill empty parts with proper code\n",
    "\n",
    "      # set model to validation mode\n",
    "      model_finetune.eval()\n",
    "      valid_loss, valid_acc = AverageMeter(), AverageMeter()\n",
    "\n",
    "      for img, label in qd_val_dataloader:\n",
    "\n",
    "        img, label = img.to(device), label.to(device)\n",
    "\n",
    "        # 모델에 이미지 forward (gradient 계산 X)\n",
    "        with torch.no_grad():\n",
    "          pred_logit = model_finetune(img)\n",
    "\n",
    "        # loss 값 계산\n",
    "        loss = criterion(pred_logit, label)\n",
    "\n",
    "        # TO DO (3-2) ends here!\n",
    "\n",
    "        # Accuracy 계산\n",
    "        pred_label = torch.argmax(pred_logit, 1)\n",
    "        acc = (pred_label == label).sum().item() / len(img)\n",
    "\n",
    "        valid_loss.update(loss.item(), len(img))\n",
    "        valid_acc.update(acc, len(img))\n",
    "\n",
    "      valid_loss = valid_loss.avg\n",
    "      valid_acc = valid_acc.avg\n",
    "\n",
    "      print(\"Iter [%3d/%3d] | Train Loss %.4f | Train Acc %.4f | Valid Loss %.4f | Valid Acc %.4f\" %\n",
    "            (iter, len(qd_train_dataloader), train_loss, train_acc, valid_loss, valid_acc))\n",
    "      \n",
    "      # Train Log Writing\n",
    "      log.write('%d,%.4f,%.4f,%.4f,%.4f\\n'%(iter, train_loss, train_acc, valid_loss, valid_acc))"
   ]
  },
  {
   "cell_type": "code",
   "execution_count": 47,
   "metadata": {},
   "outputs": [
    {
     "name": "stdout",
     "output_type": "stream",
     "text": [
      "----------------------------------------------------------------\n",
      "        Layer (type)               Output Shape         Param #\n",
      "================================================================\n",
      "            Conv2d-1         [-1, 64, 224, 224]           1,792\n",
      "              ReLU-2         [-1, 64, 224, 224]               0\n",
      "         MaxPool2d-3         [-1, 64, 112, 112]               0\n",
      "            Conv2d-4        [-1, 128, 112, 112]          73,856\n",
      "              ReLU-5        [-1, 128, 112, 112]               0\n",
      "         MaxPool2d-6          [-1, 128, 56, 56]               0\n",
      "            Conv2d-7          [-1, 256, 56, 56]         295,168\n",
      "              ReLU-8          [-1, 256, 56, 56]               0\n",
      "            Conv2d-9          [-1, 256, 56, 56]         590,080\n",
      "             ReLU-10          [-1, 256, 56, 56]               0\n",
      "        MaxPool2d-11          [-1, 256, 28, 28]               0\n",
      "           Conv2d-12          [-1, 512, 28, 28]       1,180,160\n",
      "             ReLU-13          [-1, 512, 28, 28]               0\n",
      "           Conv2d-14          [-1, 512, 28, 28]       2,359,808\n",
      "             ReLU-15          [-1, 512, 28, 28]               0\n",
      "        MaxPool2d-16          [-1, 512, 14, 14]               0\n",
      "           Conv2d-17          [-1, 512, 14, 14]       2,359,808\n",
      "             ReLU-18          [-1, 512, 14, 14]               0\n",
      "           Conv2d-19          [-1, 512, 14, 14]       2,359,808\n",
      "             ReLU-20          [-1, 512, 14, 14]               0\n",
      "        MaxPool2d-21            [-1, 512, 7, 7]               0\n",
      "AdaptiveAvgPool2d-22            [-1, 512, 7, 7]               0\n",
      "           Linear-23                 [-1, 4096]     102,764,544\n",
      "             ReLU-24                 [-1, 4096]               0\n",
      "          Dropout-25                 [-1, 4096]               0\n",
      "           Linear-26                 [-1, 4096]      16,781,312\n",
      "             ReLU-27                 [-1, 4096]               0\n",
      "          Dropout-28                 [-1, 4096]               0\n",
      "           Linear-29                   [-1, 10]          40,970\n",
      "================================================================\n",
      "Total params: 128,807,306\n",
      "Trainable params: 119,586,826\n",
      "Non-trainable params: 9,220,480\n",
      "----------------------------------------------------------------\n",
      "Input size (MB): 0.57\n",
      "Forward/backward pass size (MB): 125.37\n",
      "Params size (MB): 491.36\n",
      "Estimated Total Size (MB): 617.30\n",
      "----------------------------------------------------------------\n"
     ]
    }
   ],
   "source": [
    "from torchsummary import summary\n",
    "\n",
    "summary(model_finetune, (3, 224, 224))\n",
    "    "
   ]
  },
  {
   "cell_type": "markdown",
   "metadata": {
    "id": "ghBPEKbIEiq-"
   },
   "source": [
    "## Visualizing training results\n",
    "아래 코드는 training from scratch와 fine tuning의 학습 경향을 비교할 수 있는 그래프를 출력해주는 코드입니다. 수렴 속도, accuracy 등 학습 결과에서 확인할 수 있는 정보들을 통해 from scratch, fine tuning중 어떤 방법이 더 우수한지, 또 그 이유는 무엇인지 자유롭게 생각해보고 캠퍼분들과 논의해보세요!\n",
    "- from scratch는 fine tuning과 구조가 완전 동일한가? (BN 구조도?) \n",
    "    - fine tuning에 BN없음. BN의 역할? \n",
    "    - BN이 없으니 파라메터수 감소\n",
    "    - 마지막에 AdaptiveAvgPool2d 유무 차이\n",
    "- 왜 pre trained가 더 좋은 성능을 내는가?\n",
    "    - 이미지넷으로 이미 학습시킨 weight가 일반적인 성능이 좋다는것을 의미하나"
   ]
  },
  {
   "cell_type": "code",
   "execution_count": 64,
   "metadata": {
    "id": "DUUzXL47E5Fa"
   },
   "outputs": [],
   "source": [
    "# Load log file\n",
    "scratch_train_log = pd.read_csv(os.path.join(log_dir, 'scratch_train_log.csv'), index_col=0, header=None)\n",
    "fine_tuned_train_log = pd.read_csv(os.path.join(log_dir, 'fine_tuned_train_log.csv'), index_col=0, header=None)"
   ]
  },
  {
   "cell_type": "code",
   "execution_count": 65,
   "metadata": {
    "colab": {
     "base_uri": "https://localhost:8080/",
     "height": 563
    },
    "executionInfo": {
     "elapsed": 1074,
     "status": "ok",
     "timestamp": 1629473647327,
     "user": {
      "displayName": "‍김종하[ 학부재학 / 컴퓨터학과 ]",
      "photoUrl": "",
      "userId": "09112571090351725461"
     },
     "user_tz": -540
    },
    "id": "jv_1nfnGE7so",
    "outputId": "61327e91-2318-45ce-8e33-8ba5a5a097d2"
   },
   "outputs": [
    {
     "data": {
      "image/png": "[encoded data removed]",
      "text/plain": [
       "<Figure size 1080x576 with 2 Axes>"
      ]
     },
     "metadata": {
      "needs_background": "light"
     },
     "output_type": "display_data"
    }
   ],
   "source": [
    "# Visualize training log\n",
    "fig, (ax1, ax2) = plt.subplots(1, 2, figsize=(15,8))\n",
    "\n",
    "ax1.plot(scratch_train_log.iloc[:,0], label='Scratch Training')\n",
    "ax1.plot(fine_tuned_train_log.iloc[:,0], label='Fine Tuning')\n",
    "ax1.set_title('Training Loss Graph', fontsize=15)\n",
    "ax1.set_xlabel('Iteration', fontsize=15)\n",
    "ax1.set_ylabel('Loss', fontsize=15)\n",
    "\n",
    "fig.legend(fontsize=15)\n",
    "\n",
    "ax2.plot(scratch_train_log.iloc[:,1], label='Scratch Training')\n",
    "ax2.plot(fine_tuned_train_log.iloc[:,1], label='Fine Tuning')\n",
    "ax2.set_title('Training Accuracy Graph', fontsize=15)\n",
    "ax2.set_xlabel('Iteration', fontsize=15)\n",
    "ax2.set_ylabel('Accuracy', fontsize=15)\n",
    "\n",
    "plt.show()"
   ]
  },
  {
   "cell_type": "code",
   "execution_count": 66,
   "metadata": {
    "colab": {
     "base_uri": "https://localhost:8080/",
     "height": 563
    },
    "executionInfo": {
     "elapsed": 1748,
     "status": "ok",
     "timestamp": 1629473656943,
     "user": {
      "displayName": "‍김종하[ 학부재학 / 컴퓨터학과 ]",
      "photoUrl": "",
      "userId": "09112571090351725461"
     },
     "user_tz": -540
    },
    "id": "LYhBa098E9C2",
    "outputId": "3c94fc72-7c03-4561-8e97-101221424e65"
   },
   "outputs": [
    {
     "data": {
      "image/png": "[encoded data removed]",
      "text/plain": [
       "<Figure size 1080x576 with 2 Axes>"
      ]
     },
     "metadata": {
      "needs_background": "light"
     },
     "output_type": "display_data"
    }
   ],
   "source": [
    "# Visualize validation log\n",
    "fig, (ax1, ax2) = plt.subplots(1, 2, figsize=(15,8))\n",
    "\n",
    "ax1.plot(scratch_train_log.iloc[:,2], label='Scratch Training')\n",
    "ax1.plot(fine_tuned_train_log.iloc[:,2], label='Fine Tuning')\n",
    "ax1.set_title('Validation Loss Graph', fontsize=15)\n",
    "ax1.set_xlabel('Iteration', fontsize=15)\n",
    "ax1.set_ylabel('Loss', fontsize=15)\n",
    "\n",
    "fig.legend(fontsize=15)\n",
    "\n",
    "ax2.plot(scratch_train_log.iloc[:,3], label='Scratch Training')\n",
    "ax2.plot(fine_tuned_train_log.iloc[:,3], label='Fine Tuning')\n",
    "ax2.set_title('Validation Accuracy Graph', fontsize=15)\n",
    "ax2.set_xlabel('Iteration', fontsize=15)\n",
    "ax2.set_ylabel('Accuracy', fontsize=15)\n",
    "\n",
    "plt.show()"
   ]
  },
  {
   "cell_type": "code",
   "execution_count": null,
   "metadata": {},
   "outputs": [],
   "source": []
  }
 ],
 "metadata": {
  "accelerator": "GPU",
  "colab": {
   "collapsed_sections": [
    "pcDoom-87xX4"
   ],
   "name": "Assignment1_blank.ipynb",
   "provenance": [],
   "toc_visible": true
  },
  "kernelspec": {
   "display_name": "Python 3 (ipykernel)",
   "language": "python",
   "name": "python3"
  },
  "language_info": {
   "codemirror_mode": {
    "name": "ipython",
    "version": 3
   },
   "file_extension": ".py",
   "mimetype": "text/x-python",
   "name": "python",
   "nbconvert_exporter": "python",
   "pygments_lexer": "ipython3",
   "version": "3.8.5"
  },
  "widgets": {
   "application/vnd.jupyter.widget-state+json": {
    "09b2356c955d446e8ee7f0d7c0944bf9": {
     "model_module": "@jupyter-widgets/controls",
     "model_module_version": "1.5.0",
     "model_name": "HTMLModel",
     "state": {
      "_dom_classes": [],
      "_model_module": "@jupyter-widgets/controls",
      "_model_module_version": "1.5.0",
      "_model_name": "HTMLModel",
      "_view_count": null,
      "_view_module": "@jupyter-widgets/controls",
      "_view_module_version": "1.5.0",
      "_view_name": "HTMLView",
      "description": "",
      "description_tooltip": null,
      "layout": "IPY_MODEL_274606c79c8c4f35a8a18378ea06b2fc",
      "placeholder": "​",
      "style": "IPY_MODEL_570859fc4bce46f6ab394094db0a77ce",
      "value": "100%"
     }
    },
    "11be7794e0ca4220afaefb24c1bf1571": {
     "model_module": "@jupyter-widgets/base",
     "model_module_version": "1.2.0",
     "model_name": "LayoutModel",
     "state": {
      "_model_module": "@jupyter-widgets/base",
      "_model_module_version": "1.2.0",
      "_model_name": "LayoutModel",
      "_view_count": null,
      "_view_module": "@jupyter-widgets/base",
      "_view_module_version": "1.2.0",
      "_view_name": "LayoutView",
      "align_content": null,
      "align_items": null,
      "align_self": null,
      "border": null,
      "bottom": null,
      "display": null,
      "flex": null,
      "flex_flow": null,
      "grid_area": null,
      "grid_auto_columns": null,
      "grid_auto_flow": null,
      "grid_auto_rows": null,
      "grid_column": null,
      "grid_gap": null,
      "grid_row": null,
      "grid_template_areas": null,
      "grid_template_columns": null,
      "grid_template_rows": null,
      "height": null,
      "justify_content": null,
      "justify_items": null,
      "left": null,
      "margin": null,
      "max_height": null,
      "max_width": null,
      "min_height": null,
      "min_width": null,
      "object_fit": null,
      "object_position": null,
      "order": null,
      "overflow": null,
      "overflow_x": null,
      "overflow_y": null,
      "padding": null,
      "right": null,
      "top": null,
      "visibility": null,
      "width": null
     }
    },
    "274606c79c8c4f35a8a18378ea06b2fc": {
     "model_module": "@jupyter-widgets/base",
     "model_module_version": "1.2.0",
     "model_name": "LayoutModel",
     "state": {
      "_model_module": "@jupyter-widgets/base",
      "_model_module_version": "1.2.0",
      "_model_name": "LayoutModel",
      "_view_count": null,
      "_view_module": "@jupyter-widgets/base",
      "_view_module_version": "1.2.0",
      "_view_name": "LayoutView",
      "align_content": null,
      "align_items": null,
      "align_self": null,
      "border": null,
      "bottom": null,
      "display": null,
      "flex": null,
      "flex_flow": null,
      "grid_area": null,
      "grid_auto_columns": null,
      "grid_auto_flow": null,
      "grid_auto_rows": null,
      "grid_column": null,
      "grid_gap": null,
      "grid_row": null,
      "grid_template_areas": null,
      "grid_template_columns": null,
      "grid_template_rows": null,
      "height": null,
      "justify_content": null,
      "justify_items": null,
      "left": null,
      "margin": null,
      "max_height": null,
      "max_width": null,
      "min_height": null,
      "min_width": null,
      "object_fit": null,
      "object_position": null,
      "order": null,
      "overflow": null,
      "overflow_x": null,
      "overflow_y": null,
      "padding": null,
      "right": null,
      "top": null,
      "visibility": null,
      "width": null
     }
    },
    "36c7f16063dd4278a35a23f422dfacfb": {
     "model_module": "@jupyter-widgets/controls",
     "model_module_version": "1.5.0",
     "model_name": "HBoxModel",
     "state": {
      "_dom_classes": [],
      "_model_module": "@jupyter-widgets/controls",
      "_model_module_version": "1.5.0",
      "_model_name": "HBoxModel",
      "_view_count": null,
      "_view_module": "@jupyter-widgets/controls",
      "_view_module_version": "1.5.0",
      "_view_name": "HBoxView",
      "box_style": "",
      "children": [
       "IPY_MODEL_09b2356c955d446e8ee7f0d7c0944bf9",
       "IPY_MODEL_73132d41942d40d29f79ad9610a0589a",
       "IPY_MODEL_ebf61dadc9c9487b839fe2a859ed2f36"
      ],
      "layout": "IPY_MODEL_c1b8f6a02e144380878066f006620f23"
     }
    },
    "570859fc4bce46f6ab394094db0a77ce": {
     "model_module": "@jupyter-widgets/controls",
     "model_module_version": "1.5.0",
     "model_name": "DescriptionStyleModel",
     "state": {
      "_model_module": "@jupyter-widgets/controls",
      "_model_module_version": "1.5.0",
      "_model_name": "DescriptionStyleModel",
      "_view_count": null,
      "_view_module": "@jupyter-widgets/base",
      "_view_module_version": "1.2.0",
      "_view_name": "StyleView",
      "description_width": ""
     }
    },
    "73132d41942d40d29f79ad9610a0589a": {
     "model_module": "@jupyter-widgets/controls",
     "model_module_version": "1.5.0",
     "model_name": "FloatProgressModel",
     "state": {
      "_dom_classes": [],
      "_model_module": "@jupyter-widgets/controls",
      "_model_module_version": "1.5.0",
      "_model_name": "FloatProgressModel",
      "_view_count": null,
      "_view_module": "@jupyter-widgets/controls",
      "_view_module_version": "1.5.0",
      "_view_name": "ProgressView",
      "bar_style": "success",
      "description": "",
      "description_tooltip": null,
      "layout": "IPY_MODEL_9fb519f7cd6d47c18c9bd781ac210415",
      "max": 531460341,
      "min": 0,
      "orientation": "horizontal",
      "style": "IPY_MODEL_807bf459b5364ab599467085c439e67d",
      "value": 531460341
     }
    },
    "807bf459b5364ab599467085c439e67d": {
     "model_module": "@jupyter-widgets/controls",
     "model_module_version": "1.5.0",
     "model_name": "ProgressStyleModel",
     "state": {
      "_model_module": "@jupyter-widgets/controls",
      "_model_module_version": "1.5.0",
      "_model_name": "ProgressStyleModel",
      "_view_count": null,
      "_view_module": "@jupyter-widgets/base",
      "_view_module_version": "1.2.0",
      "_view_name": "StyleView",
      "bar_color": null,
      "description_width": ""
     }
    },
    "947e1ce288ac49c4972cb947522d7cf4": {
     "model_module": "@jupyter-widgets/controls",
     "model_module_version": "1.5.0",
     "model_name": "DescriptionStyleModel",
     "state": {
      "_model_module": "@jupyter-widgets/controls",
      "_model_module_version": "1.5.0",
      "_model_name": "DescriptionStyleModel",
      "_view_count": null,
      "_view_module": "@jupyter-widgets/base",
      "_view_module_version": "1.2.0",
      "_view_name": "StyleView",
      "description_width": ""
     }
    },
    "9fb519f7cd6d47c18c9bd781ac210415": {
     "model_module": "@jupyter-widgets/base",
     "model_module_version": "1.2.0",
     "model_name": "LayoutModel",
     "state": {
      "_model_module": "@jupyter-widgets/base",
      "_model_module_version": "1.2.0",
      "_model_name": "LayoutModel",
      "_view_count": null,
      "_view_module": "@jupyter-widgets/base",
      "_view_module_version": "1.2.0",
      "_view_name": "LayoutView",
      "align_content": null,
      "align_items": null,
      "align_self": null,
      "border": null,
      "bottom": null,
      "display": null,
      "flex": null,
      "flex_flow": null,
      "grid_area": null,
      "grid_auto_columns": null,
      "grid_auto_flow": null,
      "grid_auto_rows": null,
      "grid_column": null,
      "grid_gap": null,
      "grid_row": null,
      "grid_template_areas": null,
      "grid_template_columns": null,
      "grid_template_rows": null,
      "height": null,
      "justify_content": null,
      "justify_items": null,
      "left": null,
      "margin": null,
      "max_height": null,
      "max_width": null,
      "min_height": null,
      "min_width": null,
      "object_fit": null,
      "object_position": null,
      "order": null,
      "overflow": null,
      "overflow_x": null,
      "overflow_y": null,
      "padding": null,
      "right": null,
      "top": null,
      "visibility": null,
      "width": null
     }
    },
    "c1b8f6a02e144380878066f006620f23": {
     "model_module": "@jupyter-widgets/base",
     "model_module_version": "1.2.0",
     "model_name": "LayoutModel",
     "state": {
      "_model_module": "@jupyter-widgets/base",
      "_model_module_version": "1.2.0",
      "_model_name": "LayoutModel",
      "_view_count": null,
      "_view_module": "@jupyter-widgets/base",
      "_view_module_version": "1.2.0",
      "_view_name": "LayoutView",
      "align_content": null,
      "align_items": null,
      "align_self": null,
      "border": null,
      "bottom": null,
      "display": null,
      "flex": null,
      "flex_flow": null,
      "grid_area": null,
      "grid_auto_columns": null,
      "grid_auto_flow": null,
      "grid_auto_rows": null,
      "grid_column": null,
      "grid_gap": null,
      "grid_row": null,
      "grid_template_areas": null,
      "grid_template_columns": null,
      "grid_template_rows": null,
      "height": null,
      "justify_content": null,
      "justify_items": null,
      "left": null,
      "margin": null,
      "max_height": null,
      "max_width": null,
      "min_height": null,
      "min_width": null,
      "object_fit": null,
      "object_position": null,
      "order": null,
      "overflow": null,
      "overflow_x": null,
      "overflow_y": null,
      "padding": null,
      "right": null,
      "top": null,
      "visibility": null,
      "width": null
     }
    },
    "ebf61dadc9c9487b839fe2a859ed2f36": {
     "model_module": "@jupyter-widgets/controls",
     "model_module_version": "1.5.0",
     "model_name": "HTMLModel",
     "state": {
      "_dom_classes": [],
      "_model_module": "@jupyter-widgets/controls",
      "_model_module_version": "1.5.0",
      "_model_name": "HTMLModel",
      "_view_count": null,
      "_view_module": "@jupyter-widgets/controls",
      "_view_module_version": "1.5.0",
      "_view_name": "HTMLView",
      "description": "",
      "description_tooltip": null,
      "layout": "IPY_MODEL_11be7794e0ca4220afaefb24c1bf1571",
      "placeholder": "​",
      "style": "IPY_MODEL_947e1ce288ac49c4972cb947522d7cf4",
      "value": " 507M/507M [00:06&lt;00:00, 102MB/s]"
     }
    }
   }
  }
 },
 "nbformat": 4,
 "nbformat_minor": 4
}
